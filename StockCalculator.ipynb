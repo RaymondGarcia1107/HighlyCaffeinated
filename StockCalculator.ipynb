{
 "cells": [
  {
   "cell_type": "code",
   "execution_count": 4,
   "metadata": {},
   "outputs": [],
   "source": [
    "def EV(spread,pop,credit):\n",
    "    risk = spread - credit\n",
    "    riskEV = risk * (pop/100 - 1)\n",
    "    gainEV = credit * (pop/100)\n",
    "    expval = gainEV + riskEV\n",
    "    return expval"
   ]
  },
  {
   "cell_type": "code",
   "execution_count": 5,
   "metadata": {},
   "outputs": [
    {
     "data": {
      "text/plain": [
       "0.0"
      ]
     },
     "execution_count": 5,
     "metadata": {},
     "output_type": "execute_result"
    }
   ],
   "source": [
    "spread = 10\n",
    "pop = 75\n",
    "credit = 2.5\n",
    "\n",
    "EV(spread,pop,credit)"
   ]
  },
  {
   "cell_type": "code",
   "execution_count": 6,
   "metadata": {},
   "outputs": [],
   "source": [
    "class bankaccount():\n",
    "  def __init__(self,balance=0,rate=0.01):\n",
    "    self.balance = balance\n",
    "    self.rate = rate\n",
    "\n",
    "  def deposit(self,amount):\n",
    "    self.balance += amount\n",
    "\n",
    "  def withdrawal(self,amount):\n",
    "    if self.balance < amount:\n",
    "      self.balance -= 5\n",
    "      print(\"Insufficient funds: Charging a $5 fee.\")\n",
    "    else:\n",
    "      self.balance -= amount\n",
    "\n",
    "  def display_account_info(self):\n",
    "    print(f\"Balance: {self.balance}\")\n",
    "\n",
    "  def yield_interest(self):\n",
    "    if self.balance > 0:\n",
    "      self.balance += self.balance*self.rate\n",
    "\n",
    "class user():\n",
    "  def __init__(self,name):\n",
    "    self.name = name\n",
    "    self.account = bankaccount(balance = 0, rate = 0.02)\n",
    "  \n",
    "  def make_withdrawal(self,amount):\n",
    "    self.account.withdrawal(amount)\n",
    "\n",
    "  def display_user_balance(self):\n",
    "    print(f'User: {self.name}.') \n",
    "    self.account.display_account_info()\n",
    "\n",
    "  def make_deposit(self,amount):\n",
    "    self.account.deposit(amount)\n",
    "\n",
    "  def transfer_money(self,other_user,amount):\n",
    "    self.account.withdrawal(amount)\n",
    "    other_user.account.deposit(amount)\n",
    "\n",
    "  def yield_interest(self):\n",
    "    self.account.yield_interest()"
   ]
  },
  {
   "cell_type": "code",
   "execution_count": 7,
   "metadata": {},
   "outputs": [
    {
     "name": "stdout",
     "output_type": "stream",
     "text": [
      "User: Ray.\n",
      "Balance: 100\n",
      "User: Ray.\n",
      "Balance: 90\n",
      "User: Ray.\n",
      "Balance: 91.8\n",
      "User: Kai.\n",
      "Balance: 10\n",
      "User: Ray.\n",
      "Balance: 81.8\n"
     ]
    }
   ],
   "source": [
    "ray = user('Ray')\n",
    "ray.make_deposit(100)\n",
    "ray.display_user_balance()\n",
    "ray.make_withdrawal(10)\n",
    "ray.display_user_balance()\n",
    "ray.yield_interest()\n",
    "ray.display_user_balance()\n",
    "\n",
    "kai = user('Kai')\n",
    "ray.transfer_money(other_user = kai, amount = 10)\n",
    "kai.display_user_balance()\n",
    "ray.display_user_balance()"
   ]
  },
  {
   "cell_type": "code",
   "execution_count": 8,
   "metadata": {},
   "outputs": [
    {
     "name": "stdout",
     "output_type": "stream",
     "text": [
      "3\n",
      "6\n",
      "9\n"
     ]
    }
   ],
   "source": [
    "#Flexible Counter\n",
    "\n",
    "def FlexCounter(lowNum,highNum,mult):\n",
    "  for i in range(lowNum,highNum+1):\n",
    "    if i % mult == 0:\n",
    "      print(i)\n",
    "    else:\n",
    "      continue\n",
    "\n",
    "FlexCounter(2,9,3)"
   ]
  }
 ],
 "metadata": {
  "kernelspec": {
   "display_name": "Python 3.10.7 64-bit (microsoft store)",
   "language": "python",
   "name": "python3"
  },
  "language_info": {
   "codemirror_mode": {
    "name": "ipython",
    "version": 3
   },
   "file_extension": ".py",
   "mimetype": "text/x-python",
   "name": "python",
   "nbconvert_exporter": "python",
   "pygments_lexer": "ipython3",
   "version": "3.10.9"
  },
  "orig_nbformat": 4,
  "vscode": {
   "interpreter": {
    "hash": "61cc4aa9b3d4b107b91d75d4e5c2dc050028b63fe8006f5e800bbd45a0523348"
   }
  }
 },
 "nbformat": 4,
 "nbformat_minor": 2
}
