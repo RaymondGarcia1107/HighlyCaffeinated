{
 "cells": [
  {
   "cell_type": "code",
   "execution_count": 1,
   "metadata": {},
   "outputs": [
    {
     "name": "stdout",
     "output_type": "stream",
     "text": [
      "setup complete\n"
     ]
    }
   ],
   "source": [
    "\n",
    "\n",
    "print('setup complete')"
   ]
  },
  {
   "cell_type": "code",
   "execution_count": 8,
   "metadata": {},
   "outputs": [],
   "source": [
    "def EV(spread,pop,credit):\n",
    "    risk = spread - (credit)\n",
    "    riskEV = risk * (pop/100 - 1)\n",
    "    gainEV = credit * (pop/100)\n",
    "    expval = gainEV - riskEV\n",
    "    return expval"
   ]
  },
  {
   "cell_type": "code",
   "execution_count": 9,
   "metadata": {},
   "outputs": [
    {
     "data": {
      "text/plain": [
       "3.9470600000000005"
      ]
     },
     "execution_count": 9,
     "metadata": {},
     "output_type": "execute_result"
    }
   ],
   "source": [
    "spread = 10\n",
    "pop = 75.07\n",
    "credit = 2.9\n",
    "\n",
    "EV(spread,pop,credit)"
   ]
  }
 ],
 "metadata": {
  "kernelspec": {
   "display_name": "Python 3.10.7 64-bit (microsoft store)",
   "language": "python",
   "name": "python3"
  },
  "language_info": {
   "codemirror_mode": {
    "name": "ipython",
    "version": 3
   },
   "file_extension": ".py",
   "mimetype": "text/x-python",
   "name": "python",
   "nbconvert_exporter": "python",
   "pygments_lexer": "ipython3",
   "version": "3.10.7"
  },
  "orig_nbformat": 4,
  "vscode": {
   "interpreter": {
    "hash": "61cc4aa9b3d4b107b91d75d4e5c2dc050028b63fe8006f5e800bbd45a0523348"
   }
  }
 },
 "nbformat": 4,
 "nbformat_minor": 2
}
